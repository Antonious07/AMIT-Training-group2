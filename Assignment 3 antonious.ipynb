{
 "cells": [
  {
   "cell_type": "markdown",
   "metadata": {},
   "source": [
    "# Assignment 3"
   ]
  },
  {
   "cell_type": "markdown",
   "metadata": {},
   "source": [
    "### Write a function to count the number 4 in a given list."
   ]
  },
  {
   "cell_type": "code",
   "execution_count": 2,
   "metadata": {},
   "outputs": [
    {
     "name": "stdout",
     "output_type": "stream",
     "text": [
      "3\n"
     ]
    }
   ],
   "source": [
    "def list_count_4(Number):\n",
    "    \n",
    "    x = 0  \n",
    "    for Number in Number:\n",
    "        if Number == 4:\n",
    "            x = x + 1\n",
    "\n",
    "    return x\n",
    "\n",
    "print(list_count_4([1, 4, 6, 4, 7, 4]))"
   ]
  },
  {
   "cell_type": "markdown",
   "metadata": {},
   "source": [
    "### write a  function to check whether a number is divisible by another number."
   ]
  },
  {
   "cell_type": "code",
   "execution_count": 4,
   "metadata": {},
   "outputs": [
    {
     "name": "stdout",
     "output_type": "stream",
     "text": [
      "Numbers that are divisible by 3 are: [15, 9, 30, 18]\n"
     ]
    }
   ],
   "source": [
    "list1 = [15, 9, 20, 30, 18]\n",
    "\n",
    "result = list (filter (lambda x: (x % 3 == 0), list1))\n",
    "\n",
    "print (\"Numbers that are divisible by 3 are:\", result)"
   ]
  },
  {
   "cell_type": "markdown",
   "metadata": {},
   "source": [
    "### write a function to find the maximum and minimum numbers from a sequence of numbers."
   ]
  },
  {
   "cell_type": "code",
   "execution_count": null,
   "metadata": {
    "collapsed": true
   },
   "outputs": [],
   "source": [
    "def max_check(x):\n",
    "    i = x[0]\n",
    "    for check in x:\n",
    "        if check > i:  \n",
    "            i = check   \n",
    "    return i\n",
    "def min_check(x):\n",
    "    w = x[0]\n",
    "    for check in x:\n",
    "        if check < w:\n",
    "            w = check \n",
    "    return w\n",
    "mylist = [2, 6, 8, 14, 3, 77, 63]\n",
    "print(\"Maximum number of list is: \" , max_check(mylist))\n",
    "print(\"Minimum number of list is: \", min_check(mylist))"
   ]
  },
  {
   "cell_type": "markdown",
   "metadata": {},
   "source": [
    "### Write a Python function that takes two lists and returns True if they have at least one common member."
   ]
  },
  {
   "cell_type": "code",
   "execution_count": 8,
   "metadata": {},
   "outputs": [
    {
     "name": "stdout",
     "output_type": "stream",
     "text": [
      "False\n",
      "True\n"
     ]
    }
   ],
   "source": [
    "x,y=[1,2,3,4,5], [5,6,7,8,9]\n",
    "a,b=[1,2,3,4,5], [6,7,8,9]\n",
    "def common_data(list1, list2):\n",
    "    result = False\n",
    "    for x in list1:\n",
    "        for y in list2:   \n",
    "            if x == y:      \n",
    "                result = True     \n",
    "    return result\n",
    "print(common_data(a, b))\n",
    "print(common_data(x,y))\n"
   ]
  },
  {
   "cell_type": "markdown",
   "metadata": {},
   "source": [
    "### Write a Python function to calculate the factorial of a number (a non-negative integer). The function accepts the number from the user"
   ]
  },
  {
   "cell_type": "code",
   "execution_count": 11,
   "metadata": {},
   "outputs": [
    {
     "name": "stdout",
     "output_type": "stream",
     "text": [
      "Input a number to compute the factiorial : 8\n",
      "40320\n"
     ]
    }
   ],
   "source": [
    "def factorial(a):\n",
    "    if a == 0:\n",
    "        return 1\n",
    "    else:        \n",
    "        return a * factorial(a-1)   \n",
    "a=int(input(\"Input a number to compute the factiorial : \"))\n",
    "print(factorial(a))"
   ]
  },
  {
   "cell_type": "markdown",
   "metadata": {},
   "source": [
    "### Write a Python function to check whether a number is in a given range.\n",
    "\n",
    "### The range is from 3 to 11\n"
   ]
  },
  {
   "cell_type": "code",
   "execution_count": 19,
   "metadata": {},
   "outputs": [
    {
     "name": "stdout",
     "output_type": "stream",
     "text": [
      " 8 is in the range\n"
     ]
    }
   ],
   "source": [
    "n = 8\n",
    "def test_range(n):\n",
    "    if a in range(3,9):\n",
    "        print( \" %s is in the range\"%str(a))\n",
    "    else :\n",
    "        print(\"Number out of the range\")\n",
    "test_range(n)"
   ]
  },
  {
   "cell_type": "markdown",
   "metadata": {},
   "source": [
    "### Write a  program to create the multiplication table (from 1 to 10) of a number."
   ]
  },
  {
   "cell_type": "code",
   "execution_count": 22,
   "metadata": {},
   "outputs": [
    {
     "name": "stdout",
     "output_type": "stream",
     "text": [
      "please enter the number: 5\n",
      "5 x 1 = 5\n",
      "5 x 2 = 10\n",
      "5 x 3 = 15\n",
      "5 x 4 = 20\n",
      "5 x 5 = 25\n",
      "5 x 6 = 30\n",
      "5 x 7 = 35\n",
      "5 x 8 = 40\n",
      "5 x 9 = 45\n",
      "5 x 10 = 50\n"
     ]
    }
   ],
   "source": [
    "a = int(input(\"please enter the number: \"))\n",
    "for e in range(1,11):\n",
    "    print(a,'x',e,'=',a*e)"
   ]
  },
  {
   "cell_type": "markdown",
   "metadata": {},
   "source": [
    "#### LESSER OF TWO EVENS: Write a function that returns the lesser of two given numbers *if* both numbers are even, but returns the greater if one or both numbers are odd\n",
    "    lesser_of_two_evens(2,4) --> 2\n",
    "    lesser_of_two_evens(2,5) --> 5"
   ]
  },
  {
   "cell_type": "code",
   "execution_count": 23,
   "metadata": {},
   "outputs": [
    {
     "name": "stdout",
     "output_type": "stream",
     "text": [
      "2\n",
      "5\n"
     ]
    }
   ],
   "source": [
    "def lesser_of_two_evens(a,b):\n",
    "    if (a % 2 and b % 2) != 0:\n",
    "        if b > a: print(b)\n",
    "        if a > b:print(a)\n",
    "    elif (a % 2 and b % 2) == 0:\n",
    "        if a < b: print(a)\n",
    "        else: print(b)        \n",
    "    pass\n",
    "lesser_of_two_evens(2,4)\n",
    "lesser_of_two_evens(3,5)"
   ]
  },
  {
   "cell_type": "code",
   "execution_count": null,
   "metadata": {},
   "outputs": [],
   "source": []
  }
 ],
 "metadata": {
  "kernelspec": {
   "display_name": "Python 3 (ipykernel)",
   "language": "python",
   "name": "python3"
  },
  "language_info": {
   "codemirror_mode": {
    "name": "ipython",
    "version": 3
   },
   "file_extension": ".py",
   "mimetype": "text/x-python",
   "name": "python",
   "nbconvert_exporter": "python",
   "pygments_lexer": "ipython3",
   "version": "3.9.12"
  }
 },
 "nbformat": 4,
 "nbformat_minor": 2
}
